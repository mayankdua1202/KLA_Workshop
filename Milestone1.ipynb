{
 "cells": [
  {
   "cell_type": "code",
   "execution_count": 1,
   "id": "dae08db0",
   "metadata": {},
   "outputs": [],
   "source": [
    "import yaml\n",
    "import threading\n",
    "from threading import Thread\n",
    "import time"
   ]
  },
  {
   "cell_type": "code",
   "execution_count": 2,
   "id": "9a2ed70e",
   "metadata": {},
   "outputs": [],
   "source": [
    "import logging\n",
    "\n",
    "Log_Format=\"%(asctime)s.%(msecs)06d;%(message)s\"\n",
    "datefmt='%Y-%m-%d %H:%M:%S'\n",
    "    \n",
    "logging.basicConfig(filename = \"logfile.log\",\n",
    "                    filemode = \"w\",\n",
    "                    format = Log_Format, \n",
    "                    datefmt = datefmt,\n",
    "                    level = logging.INFO)\n",
    "\n",
    "logger = logging.getLogger()"
   ]
  },
  {
   "cell_type": "code",
   "execution_count": 3,
   "id": "334bc840",
   "metadata": {},
   "outputs": [],
   "source": [
    "def convertPath2String(path) :     \n",
    "    return \".\".join(path)"
   ]
  },
  {
   "cell_type": "code",
   "execution_count": 4,
   "id": "537727a1",
   "metadata": {},
   "outputs": [],
   "source": [
    "def timeFunction(path, func_name, waiting_time) : \n",
    "    \n",
    "    logger.info( convertPath2String(path) + \" Executing TimeFunction(\" + func_name + \", \" + waiting_time + \")\" )\n",
    "    time.sleep(int(waiting_time))\n",
    "    logger.info(convertPath2String(path) + \" Exit\")  "
   ]
  },
  {
   "cell_type": "code",
   "execution_count": 5,
   "id": "eeb76a6a",
   "metadata": {},
   "outputs": [],
   "source": [
    "def handleYAML(data, path):\n",
    "\n",
    "    if(data['Type'] == 'Task') : \n",
    "\n",
    "        if(data['Function'] == 'TimeFunction') :\n",
    "            \n",
    "            func_name = data['Inputs']['FunctionInput']\n",
    "            waiting_time = data['Inputs']['ExecutionTime']\n",
    "            \n",
    "            timeFunction(path, func_name, waiting_time)\n",
    "\n",
    "    elif (data['Type'] == 'Flow') :\n",
    "\n",
    "        orig_path = path\n",
    "        \n",
    "        if(data['Execution'] == 'Sequential') :\n",
    "        \n",
    "            for activity in data['Activities'] :\n",
    "                new_key = activity\n",
    "                \n",
    "                path.append(new_key)\n",
    "                logger.info(convertPath2String(path) + \" Entry\")\n",
    "                \n",
    "                new_thread = Thread(target = handleYAML, args=[data['Activities'][new_key], path[:]])\n",
    "                \n",
    "                new_thread.start()\n",
    "                new_thread.join()\n",
    "                \n",
    "                path.pop()\n",
    "                \n",
    "                \n",
    "        elif(data['Execution'] == 'Concurrent') :\n",
    "            \n",
    "            threads = []\n",
    "            for activity in data['Activities'] :\n",
    "                new_key = activity\n",
    "                path.append(new_key)\n",
    "                logger.info(convertPath2String(path) + \" Entry\")\n",
    "                \n",
    "                new_thread = Thread(target = handleYAML, args=[data['Activities'][new_key], path[:]])\n",
    "                new_thread.start()\n",
    "                \n",
    "                threads.append((new_thread, path[:]))\n",
    "                \n",
    "                path.pop()\n",
    "                \n",
    "            for tup in (threads):                \n",
    "                thread = tup[0]\n",
    "                thread.join()\n",
    "            \n",
    "        logger.info(convertPath2String(orig_path) + \" Exit\")"
   ]
  },
  {
   "cell_type": "code",
   "execution_count": 6,
   "id": "7233551f",
   "metadata": {},
   "outputs": [],
   "source": [
    "with open(\"Milestone1B.yaml\", \"r\") as stream:\n",
    "    try:\n",
    "        data = yaml.safe_load(stream)\n",
    "        \n",
    "        path = []\n",
    "        \n",
    "        key = list(data.keys())[0]\n",
    "        \n",
    "        path.append(key)\n",
    "        logger.info(convertPath2String(path) + \" Entry\")\n",
    "        \n",
    "        new_thread = Thread(target = handleYAML, args=[data[key], path[:]])\n",
    "        new_thread.start()\n",
    "        new_thread.join()\n",
    "        \n",
    "                \n",
    "    except yaml.YAMLError as exc:\n",
    "        print(exc)"
   ]
  },
  {
   "cell_type": "code",
   "execution_count": null,
   "id": "45ec5d11",
   "metadata": {},
   "outputs": [],
   "source": []
  }
 ],
 "metadata": {
  "kernelspec": {
   "display_name": "Python 3 (ipykernel)",
   "language": "python",
   "name": "python3"
  },
  "language_info": {
   "codemirror_mode": {
    "name": "ipython",
    "version": 3
   },
   "file_extension": ".py",
   "mimetype": "text/x-python",
   "name": "python",
   "nbconvert_exporter": "python",
   "pygments_lexer": "ipython3",
   "version": "3.9.7"
  }
 },
 "nbformat": 4,
 "nbformat_minor": 5
}
